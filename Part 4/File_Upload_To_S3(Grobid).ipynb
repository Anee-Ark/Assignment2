{
 "cells": [
  {
   "cell_type": "code",
   "execution_count": 2,
   "id": "563373d0",
   "metadata": {},
   "outputs": [],
   "source": [
    "import os\n",
    "import boto3\n",
    "s3 = boto3.client(\"s3\")\n",
    "\n",
    "\n",
    "session = boto3.Session(\n",
    "    aws_access_key_id=aws_access_key_id,\n",
    "    aws_secret_access_key=aws_secret_access_key,\n",
    ")\n",
    "\n",
    "\n",
    "s3 = session.client('s3')\n",
    "\n",
    "\n",
    "Assignment1 = r\"/Users/Aneesh/Downloads/TEXT(1).txt\"\n",
    "f = os.path.basename(Assignment1)\n",
    "\n",
    "Assignment2 = r\"/Users/Aneesh/Downloads/TEXT(2).txt\"\n",
    "filename1 = os.path.basename(Assignment2)\n",
    "\n",
    "Assignment3 = r\"/Users/Aneesh/Downloads/TEXT(3).txt\"\n",
    "filename2 = os.path.basename(Assignment3)\n",
    "\n",
    "\n",
    "S3_BUCKET_NAME = \"bigdatacasestudy2\"\n",
    "S3_folder = \"GrobidFiles/\"\n",
    "\n",
    "\n",
    "with open(Assignment1,\"rb\") as f:\n",
    "    s3.upload_fileobj(f,S3_BUCKET_NAME, S3_folder + filename)\n",
    "\n",
    "with open(Assignment2,\"rb\") as f:\n",
    "    s3.upload_fileobj(f,S3_BUCKET_NAME, S3_folder + filename1)\n",
    "\n",
    "with open(Assignment3,\"rb\") as f:\n",
    "    s3.upload_fileobj(f,S3_BUCKET_NAME, S3_folder + filename2)\n"
   ]
  },
  {
   "cell_type": "code",
   "execution_count": null,
   "id": "99c3b09e",
   "metadata": {},
   "outputs": [],
   "source": []
  }
 ],
 "metadata": {
  "kernelspec": {
   "display_name": "Python 3 (ipykernel)",
   "language": "python",
   "name": "python3"
  },
  "language_info": {
   "codemirror_mode": {
    "name": "ipython",
    "version": 3
   },
   "file_extension": ".py",
   "mimetype": "text/x-python",
   "name": "python",
   "nbconvert_exporter": "python",
   "pygments_lexer": "ipython3",
   "version": "3.10.9"
  }
 },
 "nbformat": 4,
 "nbformat_minor": 5
}
