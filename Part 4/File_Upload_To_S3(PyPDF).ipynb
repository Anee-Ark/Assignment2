{
 "cells": [
  {
   "cell_type": "code",
   "execution_count": 2,
   "id": "de472f89",
   "metadata": {},
   "outputs": [
    {
     "name": "stdout",
     "output_type": "stream",
     "text": [
      "Requirement already satisfied: boto3 in ./anaconda3/lib/python3.10/site-packages (1.34.43)\n",
      "Requirement already satisfied: botocore<1.35.0,>=1.34.43 in ./anaconda3/lib/python3.10/site-packages (from boto3) (1.34.43)\n",
      "Requirement already satisfied: jmespath<2.0.0,>=0.7.1 in ./anaconda3/lib/python3.10/site-packages (from boto3) (0.10.0)\n",
      "Requirement already satisfied: s3transfer<0.11.0,>=0.10.0 in ./anaconda3/lib/python3.10/site-packages (from boto3) (0.10.0)\n",
      "Requirement already satisfied: python-dateutil<3.0.0,>=2.1 in ./anaconda3/lib/python3.10/site-packages (from botocore<1.35.0,>=1.34.43->boto3) (2.8.2)\n",
      "Requirement already satisfied: urllib3<2.1,>=1.25.4 in ./anaconda3/lib/python3.10/site-packages (from botocore<1.35.0,>=1.34.43->boto3) (1.26.14)\n",
      "Requirement already satisfied: six>=1.5 in ./anaconda3/lib/python3.10/site-packages (from python-dateutil<3.0.0,>=2.1->botocore<1.35.0,>=1.34.43->boto3) (1.16.0)\n",
      "Note: you may need to restart the kernel to use updated packages.\n"
     ]
    }
   ],
   "source": [
    "pip install boto3"
   ]
  },
  {
   "cell_type": "code",
   "execution_count": 4,
   "id": "3ab1ce2a",
   "metadata": {},
   "outputs": [],
   "source": [
    "import os\n",
    "import boto3\n",
    "s3 = boto3.client(\"s3\")\n",
    "\n",
    "\n",
    "session = boto3.Session(\n",
    "    aws_access_key_id=aws_access_key_id,\n",
    "    aws_secret_access_key=aws_secret_access_key,\n",
    ")\n",
    "\n",
    "\n",
    "s3 = session.client('s3')\n",
    "\n",
    "\n",
    "Assignment1 = r\"/Users/Aneesh/Downloads/PypdfTEXT(1).txt\"\n",
    "filename = os.path.basename(Assignment1)\n",
    "\n",
    "Assignment2 = r\"/Users/Aneesh/Downloads/PypdfTEXT(2).txt\"\n",
    "filename1 = os.path.basename(Assignment2)\n",
    "\n",
    "Assignment3 = r\"/Users/Aneesh/Downloads/PypdfTEXT(3).txt\"\n",
    "filename2 = os.path.basename(Assignment3)\n",
    "\n",
    "\n",
    "S3_BUCKET_NAME = \"bigdatacasestudy2\"\n",
    "S3_folder = \"PyPdfFiles/\"\n",
    "\n",
    "\n",
    "with open(Assignment1,\"rb\") as f:\n",
    "    s3.upload_fileobj(f,S3_BUCKET_NAME, S3_folder + filename)\n",
    "\n",
    "with open(Assignment2,\"rb\") as f:\n",
    "    s3.upload_fileobj(f,S3_BUCKET_NAME, S3_folder + filename1)\n",
    "\n",
    "with open(Assignment3,\"rb\") as f:\n",
    "    s3.upload_fileobj(f,S3_BUCKET_NAME, S3_folder + filename2)\n",
    "\n"
   ]
  },
  {
   "cell_type": "code",
   "execution_count": null,
   "id": "13b5e11c",
   "metadata": {},
   "outputs": [],
   "source": []
  }
 ],
 "metadata": {
  "kernelspec": {
   "display_name": "Python 3 (ipykernel)",
   "language": "python",
   "name": "python3"
  },
  "language_info": {
   "codemirror_mode": {
    "name": "ipython",
    "version": 3
   },
   "file_extension": ".py",
   "mimetype": "text/x-python",
   "name": "python",
   "nbconvert_exporter": "python",
   "pygments_lexer": "ipython3",
   "version": "3.10.9"
  }
 },
 "nbformat": 4,
 "nbformat_minor": 5
}
